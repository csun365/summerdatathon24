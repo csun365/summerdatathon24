{
  "cells": [
    {
      "cell_type": "code",
      "execution_count": null,
      "metadata": {
        "id": "3z4DVqWhMIkg"
      },
      "outputs": [],
      "source": [
        "import os\n",
        "import pandas as pd\n",
        "import numpy as np\n",
        "import plotly.express as px\n",
        "import geopandas as gpd\n",
        "import copy\n",
        "import matplotlib.pyplot as plt\n",
        "from statsmodels.tsa.stattools import adfuller, grangercausalitytests"
      ]
    },
    {
      "cell_type": "code",
      "execution_count": null,
      "metadata": {
        "id": "obYp4VoTsu-8"
      },
      "outputs": [],
      "source": [
        "shapefile = '/content/drive/MyDrive/tl_2012_us_state/tl_2012_us_state.shp'\n",
        "gdf = gpd.read_file(shapefile)"
      ]
    },
    {
      "cell_type": "code",
      "execution_count": null,
      "metadata": {
        "id": "5Qdb_sQ1MeQS"
      },
      "outputs": [],
      "source": [
        "os.listdir('/content/drive/MyDrive/Datathon Data')"
      ]
    },
    {
      "cell_type": "code",
      "execution_count": null,
      "metadata": {
        "colab": {
          "base_uri": "https://localhost:8080/"
        },
        "id": "oRmkBnutMgcm",
        "outputId": "b7e238d3-c393-4e64-ad20-a873957bb63f"
      },
      "outputs": [
        {
          "name": "stderr",
          "output_type": "stream",
          "text": [
            "<ipython-input-4-fc3d682e24bb>:4: DtypeWarning: Columns (18,19,21,22) have mixed types. Specify dtype option on import or set low_memory=False.\n",
            "  df = pd.read_csv(f'/content/drive/MyDrive/Datathon Data/{file}')\n"
          ]
        }
      ],
      "source": [
        "all_dfs = {}\n",
        "for file in os.listdir('/content/drive/MyDrive/Datathon Data'):\n",
        "  if file.endswith('.csv'):\n",
        "    df = pd.read_csv(f'/content/drive/MyDrive/Datathon Data/{file}')\n",
        "    all_dfs[file] = df"
      ]
    },
    {
      "cell_type": "code",
      "execution_count": null,
      "metadata": {
        "id": "NJHTT_rkf1EA"
      },
      "outputs": [],
      "source": [
        "all_dfs['acs_5yr_est_selected_economic_characteristics_2010-2022.csv']"
      ]
    },
    {
      "cell_type": "code",
      "execution_count": null,
      "metadata": {
        "colab": {
          "base_uri": "https://localhost:8080/"
        },
        "id": "ab2rMJ8Ir1g9",
        "outputId": "051df83a-4810-4537-bfd8-c099cdcef0a2"
      },
      "outputs": [
        {
          "data": {
            "text/plain": [
              "dict_keys(['Nutrition_Physical_Activity_and_Obesity_Data.csv', 'all_stock_and_etfs.csv', 'all_commodities.csv', 'Meat_Stats_Meat_Production.csv', 'Meat_Stats_Slaughter_Counts.csv', 'Meat_Stats_Slaughter_Weights.csv', 'Meat_Stats_Cold_Storage.csv', 'stock_descriptions.csv', 'acs_5yr_est_selected_economic_characteristics_2010-2022.csv', 'state_dollar_ag.csv'])"
            ]
          },
          "execution_count": 6,
          "metadata": {},
          "output_type": "execute_result"
        }
      ],
      "source": [
        "all_dfs.keys()"
      ]
    },
    {
      "cell_type": "code",
      "execution_count": null,
      "metadata": {
        "id": "h50JowN1NnFQ"
      },
      "outputs": [],
      "source": [
        "all_obesity_questions = list(all_dfs['Nutrition_Physical_Activity_and_Obesity_Data.csv']['Question'].unique())\n",
        "all_years = list(all_dfs['Nutrition_Physical_Activity_and_Obesity_Data.csv']['YearStart'].unique())"
      ]
    },
    {
      "cell_type": "code",
      "execution_count": null,
      "metadata": {
        "id": "KGXVmS-dsJgx"
      },
      "outputs": [],
      "source": [
        "def generate_chloropleth(question, year):\n",
        "  question_data = all_dfs['Nutrition_Physical_Activity_and_Obesity_Data.csv'][(all_dfs['Nutrition_Physical_Activity_and_Obesity_Data.csv'].loc[:,'Question'] == question) & (all_dfs['Nutrition_Physical_Activity_and_Obesity_Data.csv'].loc[:,'YearStart'] == year) & (all_dfs['Nutrition_Physical_Activity_and_Obesity_Data.csv'].loc[:,'StratificationCategoryId1'] == 'OVR')]\n",
        "  vals = question_data.loc[:,[\"LocationAbbr\", \"Data_Value\"]].groupby(\"LocationAbbr\").mean()\n",
        "  merged = gdf.merge(vals, left_on='STUSPS', right_on='LocationAbbr')\n",
        "  merged = merged.to_crs(epsg=4326)\n",
        "  fig = plot_heatmap(merged, question, year)\n",
        "  return fig"
      ]
    },
    {
      "cell_type": "code",
      "execution_count": null,
      "metadata": {
        "id": "W7-pktRzXJfX"
      },
      "outputs": [],
      "source": [
        "def plot_heatmap(geodf, question, year):\n",
        "  # Create the interactive heatmap\n",
        "  fig = px.choropleth_mapbox(\n",
        "      geodf,\n",
        "      geojson=geodf.__geo_interface__,\n",
        "      locations='STUSPS',\n",
        "      color='Data_Value',\n",
        "      color_continuous_scale=\"OrRd\",\n",
        "      mapbox_style=\"carto-positron\",\n",
        "      featureidkey=\"properties.STUSPS\",\n",
        "      center={\"lat\": 37.0902, \"lon\": -95.7129},\n",
        "      zoom=3,\n",
        "      hover_name='NAME',\n",
        "      hover_data={'Data_Value': True}\n",
        "  )\n",
        "\n",
        "  fig.update_geos(fitbounds=\"locations\")\n",
        "  fig.update_layout(title=f\"{question} in {year}\")\n",
        "  return fig"
      ]
    },
    {
      "cell_type": "code",
      "execution_count": null,
      "metadata": {
        "colab": {
          "base_uri": "https://localhost:8080/"
        },
        "id": "BARsEUqOuWPZ",
        "outputId": "89934aa8-d880-4bb6-c663-48455be45a35"
      },
      "outputs": [
        {
          "data": {
            "text/plain": [
              "['Percent of students in grades 9-12 who achieve 1 hour or more of moderate-and/or vigorous-intensity physical activity daily',\n",
              " 'Percent of students in grades 9-12 who have obesity',\n",
              " 'Percent of students in grades 9-12 who participate in daily physical education',\n",
              " 'Percent of students in grades 9-12 who have an overweight classification',\n",
              " 'Percent of students in grades 9-12 who drank regular soda/pop at least one time per day',\n",
              " 'Percent of students in grades 9-12 who consume vegetables less than 1 time daily',\n",
              " 'Percent of students in grades 9-12 who consume fruit less than 1 time daily',\n",
              " 'Percent of students in grades 9-12 watching 3 or more hours of television each school day',\n",
              " 'Percent of adults who engage in no leisure-time physical activity',\n",
              " 'Percent of adults aged 18 years and older who have obesity',\n",
              " 'Percent of adults aged 18 years and older who have an overweight classification',\n",
              " 'Percent of adults who achieve at least 300 minutes a week of moderate-intensity aerobic physical activity or 150 minutes a week of vigorous-intensity aerobic activity (or an equivalent combination)',\n",
              " 'Percent of adults who achieve at least 150 minutes a week of moderate-intensity aerobic physical activity or 75 minutes a week of vigorous-intensity aerobic physical activity and engage in muscle-strengthening activities on 2 or more days a week',\n",
              " 'Percent of adults who achieve at least 150 minutes a week of moderate-intensity aerobic physical activity or 75 minutes a week of vigorous-intensity aerobic activity (or an equivalent combination)',\n",
              " 'Percent of adults who engage in muscle-strengthening activities on 2 or more days a week',\n",
              " 'Percent of adults who report consuming fruit less than one time daily',\n",
              " 'Percent of adults who report consuming vegetables less than one time daily']"
            ]
          },
          "execution_count": 10,
          "metadata": {},
          "output_type": "execute_result"
        }
      ],
      "source": [
        "all_obesity_questions"
      ]
    },
    {
      "cell_type": "code",
      "execution_count": null,
      "metadata": {
        "id": "HVAWZJ5eUyhi"
      },
      "outputs": [],
      "source": [
        "all_years = list(sorted(all_years))"
      ]
    },
    {
      "cell_type": "code",
      "execution_count": null,
      "metadata": {
        "colab": {
          "background_save": true
        },
        "id": "nUvTNwzwDqKv"
      },
      "outputs": [],
      "source": [
        "fig3 = generate_chloropleth('Percent of students in grades 9-12 watching 3 or more hours of television each school day', all_years[-4])\n",
        "fig3.show()"
      ]
    },
    {
      "cell_type": "code",
      "execution_count": null,
      "metadata": {
        "colab": {
          "background_save": true
        },
        "id": "Bvz7qylRuZwq"
      },
      "outputs": [],
      "source": [
        "fig2 = generate_chloropleth(all_obesity_questions[1], all_years[-4])\n",
        "fig2.show()"
      ]
    },
    {
      "cell_type": "code",
      "execution_count": null,
      "metadata": {
        "colab": {
          "background_save": true
        },
        "id": "FaWfoABwtLhf"
      },
      "outputs": [],
      "source": [
        "fig = generate_chloropleth(all_obesity_questions[3], all_years[-4])\n",
        "fig.show()"
      ]
    },
    {
      "cell_type": "code",
      "execution_count": null,
      "metadata": {
        "colab": {
          "background_save": true
        },
        "id": "6-kgDXwdpr3y"
      },
      "outputs": [],
      "source": [
        "all_dfs['Meat_Stats_Slaughter_Counts.csv']"
      ]
    },
    {
      "cell_type": "code",
      "execution_count": null,
      "metadata": {
        "colab": {
          "background_save": true
        },
        "id": "lVKNyOkIW5kH"
      },
      "outputs": [],
      "source": [
        "all_dfs['Meat_Stats_Meat_Production.csv']"
      ]
    },
    {
      "cell_type": "code",
      "execution_count": null,
      "metadata": {
        "colab": {
          "background_save": true
        },
        "id": "3dlHECx1uZKq"
      },
      "outputs": [],
      "source": [
        "all_dfs['acs_5yr_est_selected_economic_characteristics_2010-2022.csv']"
      ]
    },
    {
      "cell_type": "code",
      "execution_count": null,
      "metadata": {
        "colab": {
          "background_save": true
        },
        "id": "9l92yYASr-qy"
      },
      "outputs": [],
      "source": [
        "all_dfs['Meat_Stats_Slaughter_Weights.csv']"
      ]
    },
    {
      "cell_type": "code",
      "execution_count": null,
      "metadata": {
        "colab": {
          "background_save": true
        },
        "id": "Ab6MjJ6wgkPz"
      },
      "outputs": [],
      "source": [
        "def plot_all_animal_stats(inspection_type = 'Federally Inspected', weight_type = 'Dressed'):\n",
        "  animals = copy.deepcopy(all_dfs['Meat_Stats_Meat_Production.csv'])\n",
        "  animals['Date'] = pd.to_datetime(animals['Date'], format='%b-%Y')\n",
        "  animals = animals.sort_values(by='Date')\n",
        "\n",
        "  animals['Production'] = animals['Production'].str.replace(',', '').astype(float)\n",
        "  animals['Production'] = animals['Production'].astype(float)\n",
        "\n",
        "  animals = animals[animals['Commercial or Federally Inspected'] == inspection_type]\n",
        "  meat_production = px.line(animals, x=\"Date\", y=\"Production\", title=\"Meat production by Animal\", color = \"Animal\")\n",
        "\n",
        "\n",
        "  counts = copy.deepcopy(all_dfs['Meat_Stats_Slaughter_Counts.csv'])\n",
        "  counts['Date'] = pd.to_datetime(counts['Date'], format='%b-%Y')\n",
        "  counts = counts.sort_values(by='Date')\n",
        "\n",
        "  counts['Count'] = counts['Count'].str.replace(',', '').astype(float)\n",
        "  counts['Count'] = counts['Count'].astype(float)\n",
        "\n",
        "  counts = counts[counts['Commercial_Or_Federally_Inspected'] == inspection_type]\n",
        "  slaughter_counts = px.line(counts, x=\"Date\", y=\"Count\", title=\"Slaughter Counts by Animal\", color = \"Animal\")\n",
        "\n",
        "  weights = copy.deepcopy(all_dfs['Meat_Stats_Slaughter_Weights.csv'])\n",
        "  weights['Date'] = pd.to_datetime(weights['Date'], format='%b-%Y')\n",
        "  weights = weights.sort_values(by='Date')\n",
        "\n",
        "  weights['Weight'] = weights['Weight'].str.replace(',', '').astype(float)\n",
        "  weights['Weight'] = weights['Weight'].astype(float)\n",
        "\n",
        "  weights = weights[(weights['Commercial_Or_Federally_Inspected'] == inspection_type) & (weights['Live_Or_Dressed'] == weight_type)]\n",
        "  slaughter_weights = px.line(weights, x=\"Date\", y=\"Weight\", title=\"Slaughter Weight by Animal\", color = \"Animal\")\n",
        "\n",
        "  storage = copy.deepcopy(all_dfs['Meat_Stats_Cold_Storage.csv'])\n",
        "  storage['Date'] = pd.to_datetime(storage['Date'], format='%b-%Y')\n",
        "  storage = storage.sort_values(by='Date')\n",
        "  cold_storage = px.line(storage, x=\"Date\", y=\"Weight\", title=\"Cold Storage by Animal\", color = \"Animal\")\n",
        "  return meat_production, slaughter_counts, slaughter_weights, cold_storage\n",
        "meat_production, slaughter_counts, slaughter_weights, cold_storage = plot_all_animal_stats()\n",
        "slaughter_weights.show()\n",
        "cold_storage.show()\n",
        "meat_production.show()\n",
        "slaughter_counts.show()"
      ]
    },
    {
      "cell_type": "code",
      "execution_count": null,
      "metadata": {
        "id": "W6zU_to1x1OR"
      },
      "outputs": [],
      "source": [
        "meat_production.show()"
      ]
    },
    {
      "cell_type": "code",
      "execution_count": null,
      "metadata": {
        "colab": {
          "base_uri": "https://localhost:8080/"
        },
        "id": "cniSWJmZ2cyP",
        "outputId": "452db942-4fe7-46d6-9d8a-2ddec4cd84dd"
      },
      "outputs": [
        {
          "data": {
            "text/plain": [
              "dict_keys(['Nutrition_Physical_Activity_and_Obesity_Data.csv', 'all_stock_and_etfs.csv', 'all_commodities.csv', 'Meat_Stats_Meat_Production.csv', 'Meat_Stats_Slaughter_Counts.csv', 'Meat_Stats_Slaughter_Weights.csv', 'Meat_Stats_Cold_Storage.csv', 'stock_descriptions.csv', 'acs_5yr_est_selected_economic_characteristics_2010-2022.csv'])"
            ]
          },
          "execution_count": 21,
          "metadata": {},
          "output_type": "execute_result"
        }
      ],
      "source": [
        "all_dfs.keys()"
      ]
    },
    {
      "cell_type": "code",
      "execution_count": null,
      "metadata": {
        "id": "FUX19-I7EkqX"
      },
      "outputs": [],
      "source": []
    },
    {
      "cell_type": "code",
      "execution_count": null,
      "metadata": {
        "id": "t05xvh_pApoh"
      },
      "outputs": [],
      "source": [
        "all_dfs['stock_descriptions.csv']"
      ]
    },
    {
      "cell_type": "code",
      "execution_count": null,
      "metadata": {
        "id": "SSkQMyTD2Yx-"
      },
      "outputs": [],
      "source": [
        "all_dfs['all_stock_and_etfs.csv']"
      ]
    },
    {
      "cell_type": "code",
      "execution_count": null,
      "metadata": {
        "colab": {
          "background_save": true
        },
        "id": "JNEONS7Wax33",
        "collapsed": true
      },
      "outputs": [],
      "source": [
        "def plot_commodity_prices():\n",
        "  commodities = copy.deepcopy(all_dfs['all_commodities.csv'])\n",
        "  commodities['Date-Time'] = pd.to_datetime(commodities['Date-Time'], format='%Y-%m-%d')\n",
        "  commodities['Unit'] = commodities['Unit'].fillna('Dollar per Metric Ton')\n",
        "  commodities['Commodity'] = commodities['Commodity'].fillna('Corn')\n",
        "  commodities = commodities.sort_values(by='Date-Time')\n",
        "  prices = px.line(commodities, x=\"Date-Time\", y=\"Value\", title=\"Prices for different commodities\", color = \"Commodity\", hover_data={'Unit': True})\n",
        "  return prices\n",
        "\n",
        "def plot_stock_prices():\n",
        "  stocks = copy.deepcopy(all_dfs['all_stock_and_etfs.csv'])\n",
        "  stocks['Date-Time'] = pd.to_datetime(stocks['Date-Time'], format='%Y-%m-%d')\n",
        "  stocks = stocks.sort_values(by='Date-Time')\n",
        "  prices = px.line(stocks, x=\"Date-Time\", y=\"Close\", title=\"Prices for different stocks\", color = \"Ticker_Symbol\")\n",
        "  return prices\n",
        "prices = plot_commodity_prices()\n",
        "stocks = plot_stock_prices()\n",
        "prices.show()\n",
        "stocks.show()"
      ]
    },
    {
      "cell_type": "code",
      "execution_count": null,
      "metadata": {
        "id": "a-EtzACEJ_jZ"
      },
      "outputs": [],
      "source": [
        "all_dfs['all_commodities.csv'][all_dfs['all_commodities.csv']['Commodity'] == 'Corn']"
      ]
    },
    {
      "cell_type": "code",
      "execution_count": null,
      "metadata": {
        "id": "beFyzarohinD"
      },
      "outputs": [],
      "source": [
        "all_dfs['all_commodities.csv']"
      ]
    },
    {
      "cell_type": "code",
      "execution_count": null,
      "metadata": {
        "id": "KIhbjwqyvzO9"
      },
      "outputs": [],
      "source": [
        "\n",
        "def check_stationarity(series):\n",
        "  result = adfuller(series)\n",
        "  print('ADF Statistic: %f' % result[0])\n",
        "  print('p-value: %f' % result[1])"
      ]
    },
    {
      "cell_type": "code",
      "execution_count": null,
      "metadata": {
        "colab": {
          "base_uri": "https://localhost:8080/"
        },
        "id": "1YGj6FT0KKhs",
        "outputId": "c0cb53c0-84c4-4d60-b6c5-da3ebab57659"
      },
      "outputs": [
        {
          "name": "stdout",
          "output_type": "stream",
          "text": [
            "ADF Statistic: -2.275770\n",
            "p-value: 0.179902\n"
          ]
        }
      ],
      "source": [
        "tmp = all_dfs['all_commodities.csv'].sort_values(by='Date-Time')\n",
        "check_stationarity(tmp[tmp['Commodity'] == 'Sugar'].loc[:,'Value'])"
      ]
    },
    {
      "cell_type": "code",
      "execution_count": null,
      "metadata": {
        "id": "V-_RzWc3kCVu"
      },
      "outputs": [],
      "source": [
        "commodities_copy = copy.deepcopy(all_dfs['all_commodities.csv'])\n",
        "commodities_copy['Unit'] = commodities_copy['Unit'].fillna('Dollar per Metric Ton')\n",
        "commodities_copy['Commodity'] = commodities_copy['Commodity'].fillna('Corn')\n",
        "Corn = commodities_copy[commodities_copy['Commodity'] == 'Corn']\n",
        "Corn.rename(columns={'Date-Time': 'Date'}, inplace=True)\n",
        "Corn['Date'] = pd.to_datetime(Corn['Date'])\n",
        "\n",
        "Coffee = commodities_copy[commodities_copy['Commodity'] == 'Coffee']\n",
        "Coffee.rename(columns={'Date-Time': 'Date'}, inplace=True)\n",
        "Coffee['Date'] = pd.to_datetime(Coffee['Date'])\n",
        "\n",
        "Sugar = commodities_copy[commodities_copy['Commodity'] == 'Sugar']\n",
        "Sugar.rename(columns={'Date-Time': 'Date'}, inplace=True)\n",
        "Sugar['Date'] = pd.to_datetime(Sugar['Date'])"
      ]
    },
    {
      "cell_type": "code",
      "execution_count": null,
      "metadata": {
        "id": "T97gVmUgFHIt"
      },
      "outputs": [],
      "source": [
        "Coffee = Coffee.set_index('Date')\n",
        "Corn = Corn.set_index('Date')\n",
        "Sugar = Sugar.set_index('Date')"
      ]
    },
    {
      "cell_type": "code",
      "execution_count": null,
      "metadata": {
        "id": "ewWm1jthFIT2"
      },
      "outputs": [],
      "source": [
        "corn_sugar = Corn.join(Sugar, lsuffix = \"-corn\", rsuffix = \"-sugar\")"
      ]
    },
    {
      "cell_type": "code",
      "execution_count": null,
      "metadata": {
        "id": "j68GM328lAM2"
      },
      "outputs": [],
      "source": [
        "def get_aggregate_meat_production():\n",
        "  meat_production = copy.deepcopy(all_dfs['Meat_Stats_Meat_Production.csv'])\n",
        "\n",
        "  meat_production['Production'] = pd.to_numeric(meat_production['Production'].str.replace(',', ''), errors='coerce')\n",
        "  aggregated_df = meat_production.groupby('Date', as_index=False)['Production'].sum()\n",
        "  aggregated_df['Date'] = pd.to_datetime(aggregated_df['Date'])\n",
        "  aggregated_df = aggregated_df.sort_values(by='Date')\n",
        "  print(aggregated_df)\n",
        "  return aggregated_df\n",
        "\n",
        "def clean_series(column_name, df):\n",
        "  aggregated = copy.deepcopy(df)\n",
        "  rolling_mean = aggregated[column_name].rolling(window=3).mean()\n",
        "  deviation = aggregated[column_name] - rolling_mean\n",
        "  std_dev = deviation.std()\n",
        "  outliers = aggregated[(deviation.abs() > 2 * std_dev)]\n",
        "  cleaned_aggregated = aggregated.drop(outliers.index)\n",
        "  return cleaned_aggregated"
      ]
    },
    {
      "cell_type": "code",
      "execution_count": null,
      "metadata": {
        "id": "x5G2jHEVmZN8"
      },
      "outputs": [],
      "source": [
        "aggregated = get_aggregate_meat_production()\n",
        "cleaned_aggregated = clean_series('Production', aggregated)\n",
        "cleaned_aggregated['Date'] = pd.to_datetime(cleaned_aggregated['Date'])\n",
        "cleaned_aggregated_dff = cleaned_aggregated['Production'].diff().dropna()\n",
        "cleaned_aggregated_dff = cleaned_aggregated_dff.reset_index(drop=True)\n",
        "cleaned_aggregated = cleaned_aggregated.set_index('Date')"
      ]
    },
    {
      "cell_type": "code",
      "execution_count": null,
      "metadata": {
        "id": "DG5lNrw-05wi"
      },
      "outputs": [],
      "source": [
        "total = cleaned_aggregated.join(Corn, lsuffix = \"Meat\", rsuffix = \"Corn\", how = \"inner\")"
      ]
    },
    {
      "cell_type": "code",
      "execution_count": null,
      "metadata": {
        "id": "b0HA3aMz2Wq4"
      },
      "outputs": [],
      "source": [
        "total"
      ]
    },
    {
      "cell_type": "code",
      "execution_count": null,
      "metadata": {
        "id": "_IenEJWwGTxP"
      },
      "outputs": [],
      "source": [
        "print(check_stationarity(total['Production'].diff().dropna()))"
      ]
    },
    {
      "cell_type": "code",
      "execution_count": null,
      "metadata": {
        "id": "T4pwkUamGdYI"
      },
      "outputs": [],
      "source": [
        "print(check_stationarity(corn_sugar['Value-corn'].diff().dropna()))\n",
        "print(check_stationarity(corn_sugar['Value-sugar'].diff().dropna()))\n",
        "# P-value of 0.2, Corn prices don't have strong corr with sugar prices\n",
        "print(grangercausalitytests(corn_sugar[['Value-corn', 'Value-sugar']].diff().dropna(), maxlag=8))"
      ]
    },
    {
      "cell_type": "code",
      "execution_count": null,
      "metadata": {
        "id": "bS-akS7k5DSo"
      },
      "outputs": [],
      "source": [
        "print(check_stationarity(total['Production'].diff().dropna()))\n",
        "print(check_stationarity(total['Value'].diff().dropna()))\n",
        "# P-value of 0.2, Corn prices don't have strong corr with meat production levels\n",
        "print(grangercausalitytests(total[['Production', 'Value']].diff().dropna(), maxlag=4))"
      ]
    },
    {
      "cell_type": "code",
      "execution_count": null,
      "metadata": {
        "id": "ezAPZ2ye-Kzc"
      },
      "outputs": [],
      "source": [
        "all_dfs['Nutrition_Physical_Activity_and_Obesity_Data.csv'][(all_dfs['Nutrition_Physical_Activity_and_Obesity_Data.csv']['Question'] == 'Percent of students in grades 9-12 who have obesity') & (all_dfs['Nutrition_Physical_Activity_and_Obesity_Data.csv']['LocationAbbr'] == 'TX') & (all_dfs['Nutrition_Physical_Activity_and_Obesity_Data.csv']['StratificationCategory1'] == 'Total')]"
      ]
    },
    {
      "cell_type": "code",
      "execution_count": null,
      "metadata": {
        "id": "8NHd_Woe_Kd5"
      },
      "outputs": [],
      "source": [
        "all_dfs['Nutrition_Physical_Activity_and_Obesity_Data.csv']['Question'].unique()"
      ]
    },
    {
      "cell_type": "code",
      "execution_count": null,
      "metadata": {
        "id": "lScD9MVl9b5U"
      },
      "outputs": [],
      "source": [
        "all_dfs['Nutrition_Physical_Activity_and_Obesity_Data.csv'][(all_dfs['Nutrition_Physical_Activity_and_Obesity_Data.csv']['Question'] == 'Percent of adults aged 18 years and older who have obesity') & (all_dfs['Nutrition_Physical_Activity_and_Obesity_Data.csv']['LocationAbbr'] == 'CA') & (all_dfs['Nutrition_Physical_Activity_and_Obesity_Data.csv']['StratificationCategory1'] == 'Total')]"
      ]
    },
    {
      "cell_type": "code",
      "execution_count": null,
      "metadata": {
        "id": "e0rSpIOf8-0V"
      },
      "outputs": [],
      "source": [
        "all_dfs['Nutrition_Physical_Activity_and_Obesity_Data.csv'][all_dfs['Nutrition_Physical_Activity_and_Obesity_Data.csv']['Question'] == 'Percent of adults who report consuming vegetables less than one time daily']"
      ]
    },
    {
      "cell_type": "code",
      "execution_count": null,
      "metadata": {
        "colab": {
          "base_uri": "https://localhost:8080/"
        },
        "id": "7sDggwgS7eOL",
        "outputId": "5895fb14-0b65-43d3-c991-9e9683a6c11b"
      },
      "outputs": [
        {
          "data": {
            "text/plain": [
              "dict_keys(['Nutrition_Physical_Activity_and_Obesity_Data.csv', 'all_stock_and_etfs.csv', 'all_commodities.csv', 'Meat_Stats_Meat_Production.csv', 'Meat_Stats_Slaughter_Counts.csv', 'Meat_Stats_Slaughter_Weights.csv', 'Meat_Stats_Cold_Storage.csv', 'stock_descriptions.csv', 'acs_5yr_est_selected_economic_characteristics_2010-2022.csv'])"
            ]
          },
          "execution_count": 96,
          "metadata": {},
          "output_type": "execute_result"
        }
      ],
      "source": [
        "all_dfs.keys()"
      ]
    },
    {
      "cell_type": "code",
      "execution_count": null,
      "metadata": {
        "id": "9p60OQbf77Rf"
      },
      "outputs": [],
      "source": [
        "all_dfs['acs_5yr_est_selected_economic_characteristics_2010-2022.csv']['Label (Grouping)'].unique()"
      ]
    },
    {
      "cell_type": "code",
      "execution_count": null,
      "metadata": {
        "id": "JZ7JFtJG7fJn"
      },
      "outputs": [],
      "source": [
        "all_dfs['acs_5yr_est_selected_economic_characteristics_2010-2022.csv']"
      ]
    },
    {
      "cell_type": "code",
      "execution_count": null,
      "metadata": {
        "id": "npTdaybT7iAa"
      },
      "outputs": [],
      "source": []
    }
  ],
  "metadata": {
    "colab": {
      "provenance": []
    },
    "kernelspec": {
      "display_name": "Python 3",
      "name": "python3"
    },
    "language_info": {
      "name": "python"
    }
  },
  "nbformat": 4,
  "nbformat_minor": 0
}